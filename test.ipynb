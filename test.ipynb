



def translate_text(text_to_translate,target_language='en'):
    
    Translator=GoogleTranslator(source='auto', target=target_language)
    
    translated_text=Translator.translate(text_to_translate)
    
    return translated_text